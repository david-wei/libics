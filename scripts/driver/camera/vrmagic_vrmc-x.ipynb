{
 "cells": [
  {
   "cell_type": "markdown",
   "metadata": {},
   "source": [
    "`libics.driver.camera`\n",
    "`libics v1.0`"
   ]
  },
  {
   "cell_type": "markdown",
   "metadata": {},
   "source": [
    "# VRmagic VRmC-X\n",
    "\n",
    "Product homepage: [Imaging USB Platform](https://www.vrmagic-imaging.com/service/downloads/usb-platform-downloads)"
   ]
  },
  {
   "cell_type": "code",
   "execution_count": null,
   "metadata": {},
   "outputs": [],
   "source": [
    "from libics.driver import camera"
   ]
  },
  {
   "cell_type": "code",
   "execution_count": null,
   "metadata": {},
   "outputs": [],
   "source": [
    "import IPython\n",
    "from io import BytesIO\n",
    "import matplotlib as mpl\n",
    "import numpy as np\n",
    "import PIL\n",
    "\n",
    "def display_array(ar, d, cmap=\"viridis\", vmin=None, vmax=None, height=512):\n",
    "    \"\"\"\n",
    "    ar : `np.ndarray(2)`\n",
    "        2D array to be displayed.\n",
    "    d : `dict`\n",
    "        Pass a new empty dictionary, i.e. `dict()`.\n",
    "        This is required for the algorithm.\n",
    "    \"\"\"\n",
    "    if \"display_handle\" not in d:\n",
    "        d[\"display_handle\"] = None\n",
    "    \n",
    "    if vmin is None:\n",
    "        vmin = np.min(ar)\n",
    "    if vmax is None:\n",
    "        vmax = np.max(ar)\n",
    "    ar_norm = (ar - vmin) / (vmax - vmin)\n",
    "    im = getattr(mpl.cm, cmap)(ar_norm)\n",
    "    im = (im * 255).astype(np.uint8)\n",
    "    if im.shape[-1] == 4:\n",
    "        im = im[:, :, :3]\n",
    "    \n",
    "    f = BytesIO()\n",
    "    PIL.Image.fromarray(im).save(f, \"jpeg\")\n",
    "    ratio = im.shape[1] / im.shape[0]\n",
    "    h = height\n",
    "    w = int(512 * ratio)\n",
    "    display_obj = IPython.display.Image(data=f.getvalue(), width=w, height=h)\n",
    "    if d[\"display_handle\"] is None:\n",
    "        d[\"display_handle\"] = IPython.display.display(display_obj, display_id=True)\n",
    "    else:\n",
    "        d[\"display_handle\"].update(display_obj)\n",
    "    IPython.display.clear_output(wait=True)"
   ]
  },
  {
   "cell_type": "markdown",
   "metadata": {},
   "source": [
    "## Device handle"
   ]
  },
  {
   "cell_type": "code",
   "execution_count": null,
   "metadata": {},
   "outputs": [],
   "source": [
    "# Create communication interface\n",
    "itf = camera.vrmagic.ItfVRmagic()\n",
    "# Discover available device IDs\n",
    "dev_ids = itf.discover()\n",
    "dev_ids"
   ]
  },
  {
   "cell_type": "code",
   "execution_count": null,
   "metadata": {},
   "outputs": [],
   "source": [
    "# Create device object\n",
    "dev = camera.vrmagic.VRmagicVRmCX()\n",
    "# Configure device\n",
    "dev.configure(\n",
    "    identifier=dev_ids[0], model=camera.VRMAGIC_VRMCX, interface=itf\n",
    ")"
   ]
  },
  {
   "cell_type": "markdown",
   "metadata": {},
   "source": [
    "## Usage"
   ]
  },
  {
   "cell_type": "markdown",
   "metadata": {},
   "source": [
    "### Example 1 (basic usage)"
   ]
  },
  {
   "cell_type": "code",
   "execution_count": null,
   "metadata": {},
   "outputs": [],
   "source": [
    "# Set up and connect to device\n",
    "dev.setup()\n",
    "dev.connect()\n",
    "dev.is_connected()"
   ]
  },
  {
   "cell_type": "code",
   "execution_count": null,
   "metadata": {},
   "outputs": [],
   "source": [
    "# Run device without callback (start acquisition loop)\n",
    "dev.run(callback=None, blocking=False)\n",
    "dev.is_running()"
   ]
  },
  {
   "cell_type": "code",
   "execution_count": null,
   "metadata": {},
   "outputs": [],
   "source": [
    "# Grab single image\n",
    "im = dev.grab()\n",
    "# Show image\n",
    "import matplotlib.pyplot as plt\n",
    "plt.imshow(im, cmap=\"jet\")\n",
    "plt.colorbar()"
   ]
  },
  {
   "cell_type": "code",
   "execution_count": null,
   "metadata": {},
   "outputs": [],
   "source": [
    "# Stop device (end acquisition loop)\n",
    "dev.stop()\n",
    "dev.is_running()"
   ]
  },
  {
   "cell_type": "code",
   "execution_count": null,
   "metadata": {},
   "outputs": [],
   "source": [
    "# Close and shut down device\n",
    "dev.close()\n",
    "dev.shutdown()"
   ]
  },
  {
   "cell_type": "markdown",
   "metadata": {},
   "source": [
    "### Example 2 (property settings)"
   ]
  },
  {
   "cell_type": "code",
   "execution_count": null,
   "metadata": {},
   "outputs": [],
   "source": [
    "import matplotlib.pyplot as plt\n",
    "\n",
    "with dev:\n",
    "    print(\"Reading configuration\")\n",
    "    dev.p.read_all()\n",
    "    print(\"  Image format: {:d}x{:d} px\".format(dev.p.pixel_hrzt_count, dev.p.pixel_vert_count))\n",
    "    print(\"  Pixel size: {:.1f}x{:.1f} µm\".format(dev.p.pixel_hrzt_size * 1e6, dev.p.pixel_vert_size * 1e6))\n",
    "    print(\"Setting exposure time\")\n",
    "    dev.write_exposure_time(10e-3)\n",
    "    print(\"  Exposure time: {:.1f} ms\".format(dev.p.exposure_time * 1e3))\n",
    "    print(\"Taking image\")\n",
    "    dev.run()\n",
    "    im = dev.grab()\n",
    "    dev.stop()\n",
    "    plt.imshow(im, vmin=0, vmax=255)\n",
    "    plt.show()\n",
    "    print(\"Setting exposure time\")\n",
    "    dev.write_exposure_time(300e-3)\n",
    "    print(\"  Exposure time: {:.1f} ms\".format(dev.p.exposure_time * 1e3))\n",
    "    print(\"Taking image\")\n",
    "    dev.run()\n",
    "    im = dev.grab()\n",
    "    dev.stop()\n",
    "    plt.imshow(im, vmin=0, vmax=255)\n",
    "    plt.show()"
   ]
  },
  {
   "cell_type": "markdown",
   "metadata": {},
   "source": [
    "### Example 3 (callback processing)"
   ]
  },
  {
   "cell_type": "code",
   "execution_count": null,
   "metadata": {},
   "outputs": [],
   "source": [
    "dev.setup()\n",
    "dev.connect()\n",
    "dev.is_connected()"
   ]
  },
  {
   "cell_type": "code",
   "execution_count": null,
   "metadata": {},
   "outputs": [],
   "source": [
    "dev.write_exposure_time(3e-3)"
   ]
  },
  {
   "cell_type": "code",
   "execution_count": null,
   "metadata": {},
   "outputs": [],
   "source": [
    "_d = {}\n",
    "dev.run(callback=lambda x: display_array(x, _d, cmap=\"jet\", vmin=0, vmax=255))\n",
    "dev.is_running()"
   ]
  },
  {
   "cell_type": "code",
   "execution_count": null,
   "metadata": {},
   "outputs": [],
   "source": [
    "dev.stop()\n",
    "dev.is_running()"
   ]
  },
  {
   "cell_type": "code",
   "execution_count": null,
   "metadata": {},
   "outputs": [],
   "source": [
    "dev.close()\n",
    "dev.shutdown()"
   ]
  },
  {
   "cell_type": "markdown",
   "metadata": {},
   "source": [
    "## Raw Vendor API"
   ]
  },
  {
   "cell_type": "code",
   "execution_count": null,
   "metadata": {},
   "outputs": [],
   "source": [
    "import ctypes as ct\n",
    "import numpy as np\n",
    "import matplotlib.pyplot as plt\n",
    "import libics.driver.camera.vrmagic.vrmusbcam2 as vrm"
   ]
  },
  {
   "cell_type": "code",
   "execution_count": null,
   "metadata": {},
   "outputs": [],
   "source": [
    "cam_id = 8514133\n",
    "\n",
    "vrm.VRmUsbCamUpdateDeviceKeyList()\n",
    "\n",
    "dev_count = vrm.VRmDWORD()\n",
    "vrm.VRmUsbCamGetDeviceKeyListSize(ct.byref(dev_count))\n",
    "dev_count = int(dev_count.value)\n",
    "\n",
    "dev_key = None\n",
    "dev_keys = [vrm.POINTER(vrm.VRmDeviceKey)() for _ in range(dev_count)]\n",
    "[vrm.VRmUsbCamGetDeviceKeyListEntry(i, ct.byref(dev_key)) for i, dev_key in enumerate(dev_keys)]\n",
    "for i, _dev_key in enumerate(dev_keys):\n",
    "    print(\"Device {:d} ({:d}): {:s}\".format(i, _dev_key.contents.m_serial, \"busy\" if _dev_key.contents.m_busy == 1 else \"free\"))\n",
    "    if _dev_key.contents.m_serial == cam_id:\n",
    "        dev_key = _dev_key\n",
    "    else:\n",
    "        vrm.VRmUsbCamFreeDeviceKey(_dev_key)\n",
    "\n",
    "print(\"Model: {:s}\".format(dev_key.contents.mp_product_str.data.decode('utf-8')))\n",
    "dev_handle = vrm.VRmUsbCamDevice()\n",
    "vrm.VRmUsbCamOpenDevice(dev_key, ct.byref(dev_handle))\n",
    "\n",
    "####################\n",
    "\n",
    "src_fmt = vrm.VRM_GRAY_8\n",
    "vrm.VRmUsbCamSetSourceFormatIndex(dev_handle, src_fmt)\n",
    "\n",
    "\n",
    "propid = vrm.VRmPropId()\n",
    "propinfo = vrm.VRmPropInfo()\n",
    "prop_attr_b = vrm.VRmPropAttribsB()\n",
    "prop_b = vrm.VRmBOOL()\n",
    "prop_attr_d = vrm.VRmPropAttribsD()\n",
    "prop_d = vrm.c_double()\n",
    "prop_attr_i = vrm.VRmPropAttribsI()\n",
    "prop_i = ct.c_int()\n",
    "prop_attr_f = vrm.VRmPropAttribsF()\n",
    "prop_f = ct.c_float()\n",
    "prop_attr_e = vrm.VRmPropAttribsE()\n",
    "prop_e = vrm.VRmPropId()\n",
    "prop_attr_s = vrm.VRmPropAttribsS()\n",
    "prop_s = ct.c_char_p()\n",
    "\n",
    "vrm.VRmUsbCamGetPropertyValueF(dev_handle, vrm.VRM_PROPID_CAM_EXPOSURE_TIME_F, ct.byref(prop_f))\n",
    "prop_exposure_time = prop_f.value\n",
    "print(\"Previous exposure time: {:.1f} ms\".format(prop_exposure_time))\n",
    "prop_exposure_time = (prop_exposure_time + 27) % 20\n",
    "prop_f.value = prop_exposure_time\n",
    "vrm.VRmUsbCamSetPropertyValueF(dev_handle, vrm.VRM_PROPID_CAM_EXPOSURE_TIME_F, ct.byref(prop_f))\n",
    "vrm.VRmUsbCamGetPropertyValueF(dev_handle, vrm.VRM_PROPID_CAM_EXPOSURE_TIME_F, ct.byref(prop_f))\n",
    "prop_exposure_time = prop_f.value\n",
    "print(\"New exposure time: {:.1f} ms\".format(prop_exposure_time))\n",
    "\n",
    "####################\n",
    "\n",
    "vrm.VRmUsbCamStart(dev_handle)\n",
    "frames_dropped = vrm.VRmBOOL()\n",
    "img_ready = vrm.VRmBOOL()\n",
    "img = vrm.POINTER(vrm.VRmImage)()\n",
    "for ii in range(1):\n",
    "    vrm.VRmUsbCamLockNextImage(dev_handle, ct.byref(img), ct.byref(frames_dropped))\n",
    "    height = img.contents.m_image_format.m_height\n",
    "    width = img.contents.m_image_format.m_width\n",
    "    pitch = img.contents.m_pitch\n",
    "    print('pitch-width %s' % (pitch-width))\n",
    "    im = np.array(img.contents.mp_buffer[0:height * pitch]).reshape(height, pitch)\n",
    "    print(\"hxwxp: {:d}x{:d}x{:d}\".format(height, width, pitch))\n",
    "    \n",
    "    vrm.VRmUsbCamUnlockNextImage(dev_handle, ct.byref(img))\n",
    "r = vrm.VRmUsbCamStop(dev_handle)\n",
    "\n",
    "####################\n",
    "\n",
    "vrm.VRmUsbCamCloseDevice(dev_handle)\n",
    "vrm.VRmUsbCamFreeDeviceKey(dev_key)\n",
    "\n",
    "\n",
    "plt.imshow(im)"
   ]
  },
  {
   "cell_type": "code",
   "execution_count": null,
   "metadata": {},
   "outputs": [],
   "source": []
  }
 ],
 "metadata": {
  "kernelspec": {
   "display_name": "Python 3",
   "language": "python",
   "name": "python3"
  },
  "language_info": {
   "codemirror_mode": {
    "name": "ipython",
    "version": 3
   },
   "file_extension": ".py",
   "mimetype": "text/x-python",
   "name": "python",
   "nbconvert_exporter": "python",
   "pygments_lexer": "ipython3",
   "version": "3.7.3"
  },
  "toc-autonumbering": true
 },
 "nbformat": 4,
 "nbformat_minor": 4
}
