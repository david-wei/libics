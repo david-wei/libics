{
 "cells": [
  {
   "cell_type": "code",
   "execution_count": 1,
   "metadata": {
    "collapsed": false,
    "inputHidden": false,
    "outputHidden": false
   },
   "outputs": [],
   "source": [
    "import numpy as np\n",
    "import scipy.optimize\n",
    "import os\n",
    "import re\n",
    "import json\n",
    "import matplotlib.pyplot as plt"
   ]
  },
  {
   "cell_type": "code",
   "execution_count": 2,
   "metadata": {
    "collapsed": false,
    "inputHidden": false,
    "outputHidden": false
   },
   "outputs": [],
   "source": [
    "tmp_dir = os.path.join(\n",
    "    os.environ[\"USERPROFILE\"], \"rzgdatashare\", \"RZG_Data\"\n",
    ")\n",
    "tail_name = \"20181109_SLD670_L4-center_MMF20-22-105_L11_L500_Coherence\"\n",
    "subfolder = \"20181109_SLD670_Coherence\"\n",
    "var_format = \"{:s}_v_x_{:d}um\"\n",
    "var_list = list(np.arange(4900, 5081, 10))\n",
    "var_title = \"SLD670, L4 (center), MMF20-22-105, L11, L500\"\n",
    "var_label = \"Lateral displacement (µm)\"\n",
    "\n",
    "var_folders = [\n",
    "    os.path.join(tmp_dir, tail_name, var_format.format(subfolder, x))\n",
    "    for x in var_list\n",
    "]\n",
    "for folder in var_folders:\n",
    "    if not os.path.isdir(folder):\n",
    "        raise FileNotFoundError(folder)"
   ]
  },
  {
   "cell_type": "code",
   "execution_count": 3,
   "metadata": {
    "collapsed": false,
    "inputHidden": false,
    "outputHidden": false
   },
   "outputs": [],
   "source": [
    "def get_crop_coords(file_name):\n",
    "    lines = []\n",
    "    with open(file_name) as f:\n",
    "        for line in f:\n",
    "            if re.match(r\"#*\", line):\n",
    "                lines.append(line.strip(\"# \\r\\n\"))\n",
    "    header = None\n",
    "    for line in lines:\n",
    "        try:\n",
    "            header = json.loads(line)\n",
    "        except ValueError as e:\n",
    "            continue\n",
    "        if type(header) == dict:\n",
    "            break\n",
    "    assert(header is not None and\n",
    "           \"piezo_trace\" in header.keys() and\n",
    "           \"cohtrace_coords\" in header.keys() and\n",
    "           \"crop_coords\" in header.keys())\n",
    "    unit = header[\"piezo_trace\"]\n",
    "    cohtrace_coords = header[\"cohtrace_coords\"]\n",
    "    crop_coords = header[\"crop_coords\"]\n",
    "    return crop_coords"
   ]
  },
  {
   "cell_type": "code",
   "execution_count": 16,
   "metadata": {
    "collapsed": false,
    "inputHidden": false,
    "outputHidden": false
   },
   "outputs": [],
   "source": [
    "coherence = []\n",
    "crop_coords = []\n",
    "coh_totmax = []\n",
    "coh_max = []\n",
    "coh_center = []\n",
    "totmax = [0, 0, 0]      # [x, y, val]\n",
    "coh_maxtrace = []\n",
    "\n",
    "for folder in var_folders:\n",
    "    crop_coords.append(get_crop_coords(os.path.join(\n",
    "        folder, os.path.basename(folder) + \"_cohtrace.txt\"\n",
    "    )))\n",
    "crop_coords = np.array(crop_coords)\n",
    "min_ = np.min(crop_coords, axis=0)\n",
    "max_ = np.max(crop_coords, axis=0)\n",
    "target_coords = np.array([[max_[0, 0], max_[0, 1]], [min_[1, 0], min_[1, 1]]])\n",
    "diff_coords = np.array([target_coords - cc for cc in crop_coords])\n",
    "for it, d in enumerate(diff_coords):\n",
    "    if d[1, 0] == 0:\n",
    "        diff_coords[it, 1, 0] = crop_coords[it, 1, 0]\n",
    "    if d[1, 1] == 0:\n",
    "        diff_coords[it, 1, 1] = crop_coords[it, 1, 1]\n",
    "\n",
    "for it, folder in enumerate(var_folders):\n",
    "    im = (\n",
    "        -np.load(os.path.join(folder, os.path.basename(folder) + \"_imrec_min.npy\"))\n",
    "    )[diff_coords[it, 0, 0]:diff_coords[it, 1, 0], diff_coords[it, 0, 1]:diff_coords[it, 1, 1]]\n",
    "    \n",
    "    _totmax = np.unravel_index(np.argmax(im), im.shape)\n",
    "    coh_totmax.append(im[_totmax])\n",
    "    if im[_totmax] > totmax[2]:\n",
    "        totmax[0], totmax[1] = _totmax[0], _totmax[1]\n",
    "        totmax[2] = im[_totmax]\n",
    "    \n",
    "    xcut, ycut = im.shape[0] // 3, im.shape[1] // 3\n",
    "    im_max = im[xcut:2 * xcut, ycut:2 * ycut]\n",
    "    coh_max.append(np.max(im_max))\n",
    "    \n",
    "    xcut, ycut = im.shape[0] // 2, im.shape[1] // 2\n",
    "    im_center = im[xcut - 10:xcut + 11, ycut - 10:ycut + 11]\n",
    "    coh_center.append(np.max(im_center))\n",
    "    \n",
    "for it, folder in enumerate(var_folders):\n",
    "    im = (\n",
    "        -np.load(os.path.join(folder, os.path.basename(folder) + \"_imrec_min.npy\"))\n",
    "    )[diff_coords[it, 0, 0]:diff_coords[it, 1, 0], diff_coords[it, 0, 1]:diff_coords[it, 1, 1]]\n",
    "    coherence.append(im)\n",
    "    coh_maxtrace.append(im[totmax[0], totmax[1]])\n",
    "    \n",
    "coherence = np.array(coherence)"
   ]
  },
  {
   "cell_type": "code",
   "execution_count": 5,
   "metadata": {
    "collapsed": false,
    "inputHidden": false,
    "outputHidden": false
   },
   "outputs": [
    {
     "name": "stdout",
     "output_type": "stream",
     "text": [
      "Using matplotlib backend: TkAgg\n"
     ]
    }
   ],
   "source": [
    "%matplotlib\n",
    "var_list = np.array(var_list) - 5000\n",
    "plt.plot(var_list, coh_totmax, label=\"totmax\")\n",
    "plt.plot(var_list, coh_max, label=\"max\")\n",
    "plt.plot(var_list, coh_center, label=\"center\")\n",
    "plt.plot(var_list, coh_maxtrace, label=\"maxtrace\")\n",
    "plt.title(var_title)\n",
    "plt.xlabel(var_label)\n",
    "plt.ylabel(\"Spatial coherence\")\n",
    "plt.legend()\n",
    "plt.show()"
   ]
  },
  {
   "cell_type": "code",
   "execution_count": 6,
   "metadata": {
    "collapsed": false,
    "inputHidden": false,
    "outputHidden": false
   },
   "outputs": [],
   "source": [
    "def stat(data, weight, x, y):\n",
    "    \"\"\"data: lateral position, weight: coherence\"\"\"\n",
    "    weight_sum = np.sum(weight)\n",
    "    mean, std = 0.0, 0.0\n",
    "    if weight_sum > 0:\n",
    "        mean = np.sum(data * weight) / weight_sum\n",
    "        std = np.sqrt(np.sum((data - mean)**2 * weight) / weight_sum)\n",
    "    if np.isnan(mean) or np.isnan(std):\n",
    "        print(x, y, \"isnan\")\n",
    "    if np.isinf(mean) or np.isinf(std):\n",
    "        print(x, y, \"isinf\")\n",
    "    return mean, std\n",
    "coherence_mean = np.full(coherence.shape[1:], 0.0)\n",
    "coherence_std = np.full(coherence.shape[1:], 0.0)\n",
    "for x in range(coherence.shape[1]):\n",
    "    for y in range(coherence.shape[2]):\n",
    "        coherence_mean[x, y], coherence_std[x, y] = stat(var_list, coherence[:, x, y], x, y)"
   ]
  },
  {
   "cell_type": "code",
   "execution_count": 7,
   "metadata": {
    "collapsed": false,
    "inputHidden": false,
    "outputHidden": false
   },
   "outputs": [
    {
     "name": "stderr",
     "output_type": "stream",
     "text": [
      "C:\\Users\\LaborUser\\AppData\\Local\\Programs\\Python\\Python37\\lib\\site-packages\\scipy\\optimize\\minpack.py:794: OptimizeWarning: Covariance of the parameters could not be estimated\n",
      "  category=OptimizeWarning)\n"
     ]
    }
   ],
   "source": [
    "def fit_func(x, A, x0, s, y0):\n",
    "    return A * np.exp(-(x - x0)**2 / 2 / s**2) + y0\n",
    "def fit(data, weight, mean, std):\n",
    "    \"\"\"data: lateral position, weight: coherence\"\"\"\"\"\n",
    "    weight = np.array(weight) / np.sum(weight)\n",
    "    min_ = np.min(weight)\n",
    "    max_ = np.max(weight)\n",
    "    if np.isclose(std, 0):\n",
    "        std = 20.0\n",
    "    if np.any(np.isnan(weight)):\n",
    "        print(\"isnan\")\n",
    "    if np.any(np.isinf(weight)):\n",
    "        print(\"isinf\")\n",
    "    res = (None, None)\n",
    "    try:\n",
    "        res = scipy.optimize.curve_fit(\n",
    "            fit_func, data, weight,\n",
    "            p0=(max_ - min_, mean, std, min_)\n",
    "        )\n",
    "    except(RuntimeError):\n",
    "        res = ([np.nan, np.nan, np.nan, np.nan], None)\n",
    "    return res\n",
    "coherence_x0 = np.full(coherence.shape[1:], 0.0)\n",
    "coherence_s = np.full(coherence.shape[1:], 0.0)\n",
    "for x in range(coherence.shape[1]):\n",
    "    for y in range(coherence.shape[2]):\n",
    "        try:\n",
    "            param, cov = fit(\n",
    "                var_list, coherence[:, x, y],\n",
    "                coherence_mean[x, y], coherence_std[x, y]\n",
    "            )\n",
    "            coherence_x0[x, y], coherence_s[x, y] = param[1], param[2]\n",
    "        except(ValueError):\n",
    "            print(x, y, ValueError)"
   ]
  },
  {
   "cell_type": "code",
   "execution_count": 8,
   "metadata": {
    "collapsed": false,
    "inputHidden": false,
    "outputHidden": false
   },
   "outputs": [],
   "source": [
    "plt.imshow(coherence_mean)\n",
    "plt.colorbar()\n",
    "plt.title(\"{:s}: coh. mean (µm)\".format(var_title))\n",
    "plt.xlabel(\"x (px)\")\n",
    "plt.ylabel(\"y (px)\")\n",
    "plt.show()"
   ]
  },
  {
   "cell_type": "code",
   "execution_count": 9,
   "metadata": {
    "collapsed": false,
    "inputHidden": false,
    "outputHidden": false
   },
   "outputs": [],
   "source": [
    "plt.imshow(coherence_std)\n",
    "plt.colorbar()\n",
    "plt.title(\"{:s}: coh. std (µm)\".format(var_title))\n",
    "plt.xlabel(\"x (px)\")\n",
    "plt.ylabel(\"y (px)\")\n",
    "plt.show()"
   ]
  },
  {
   "cell_type": "code",
   "execution_count": 13,
   "metadata": {
    "collapsed": false,
    "inputHidden": false,
    "outputHidden": false
   },
   "outputs": [],
   "source": [
    "plt.imshow(coherence_x0)\n",
    "plt.colorbar()\n",
    "plt.title(\"{:s}: coh. Gs. x0 (µm)\".format(var_title))\n",
    "plt.xlabel(\"x (px)\")\n",
    "plt.ylabel(\"y (px)\")\n",
    "plt.show()"
   ]
  },
  {
   "cell_type": "code",
   "execution_count": 20,
   "metadata": {
    "collapsed": false,
    "inputHidden": false,
    "outputHidden": false
   },
   "outputs": [],
   "source": [
    "plt.imshow(coherence_s, vmin=10, vmax=80)\n",
    "plt.colorbar()\n",
    "plt.title(\"{:s}: coh. Gs. s (µm)\".format(var_title))\n",
    "plt.xlabel(\"x (px)\")\n",
    "plt.ylabel(\"y (px)\")\n",
    "plt.show()"
   ]
  },
  {
   "cell_type": "code",
   "execution_count": 21,
   "metadata": {
    "collapsed": false,
    "inputHidden": false,
    "outputHidden": false
   },
   "outputs": [],
   "source": [
    "hist, bins = np.histogram(coherence_s.flatten(), bins=81)\n",
    "bin_width = (bins[-1] - bins[0]) / (len(bins) - 1)\n",
    "hist = hist / np.sum(hist) / bin_width\n",
    "bins = np.array([(bins[i] + bins[i + 1]) / 2 for i in range(len(bins) - 1)])\n",
    "plt.bar(bins, hist)\n",
    "def fit_func(x, A, x0, s, y0):\n",
    "    return A * np.exp(-(x - x0)**2 / 2 / s**2) + y0\n",
    "p, _ = scipy.optimize.curve_fit(\n",
    "    fit_func, bins, hist,\n",
    "    p0=(np.max(hist), bins[len(bins) // 2], bins[int(0.75 * len(bins))] - bins[len(bins) // 2], 0)\n",
    ")\n",
    "y = fit_func(np.linspace(bins[0], bins[-1], 200), *p)\n",
    "plt.plot(np.linspace(bins[0], bins[-1], 200), y, label=\"coh. length: {:.1f}µm\".format(p[1]), color=\"C1\")\n",
    "plt.title(\"{:s}: hist. Gs. s\".format(var_title))\n",
    "plt.xlabel(\"Coherence length (µm)\")\n",
    "plt.ylabel(\"PDF\")\n",
    "plt.legend()\n",
    "plt.show()"
   ]
  },
  {
   "cell_type": "code",
   "execution_count": null,
   "metadata": {},
   "outputs": [],
   "source": []
  }
 ],
 "metadata": {
  "kernel_info": {
   "name": "python3"
  },
  "kernelspec": {
   "display_name": "Python 3",
   "language": "python",
   "name": "python3"
  },
  "language_info": {
   "codemirror_mode": {
    "name": "ipython",
    "version": 3
   },
   "file_extension": ".py",
   "mimetype": "text/x-python",
   "name": "python",
   "nbconvert_exporter": "python",
   "pygments_lexer": "ipython3",
   "version": "3.7.0"
  },
  "nteract": {
   "version": "0.11.9"
  }
 },
 "nbformat": 4,
 "nbformat_minor": 4
}
