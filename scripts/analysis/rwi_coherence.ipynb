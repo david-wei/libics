{
  "cells": [
    {
      "cell_type": "code",
      "source": [
        "import numpy as np\n",
        "import scipy.optimize\n",
        "import os\n",
        "import re\n",
        "import json\n",
        "import matplotlib.pyplot as plt"
      ],
      "outputs": [],
      "execution_count": 7,
      "metadata": {
        "collapsed": false,
        "outputHidden": false,
        "inputHidden": false
      }
    },
    {
      "cell_type": "code",
      "source": [
        "tmp_dir = os.path.join(\n",
        "    os.environ[\"USERPROFILE\"], \"rzgdatashare\", \"RZG_Data\"\n",
        ")\n",
        "tail_name = \"20181018_LD780_L4_MMF5-22-105_L11_Coherence\"\n",
        "var_format = \"{:s}_v_x_{:d}um\"\n",
        "var_list = list(np.arange(4900, 5201, 10))\n",
        "var_title = \"LD780, L4, MMF5-22-105, L11\"\n",
        "var_label = \"Lateral displacement (µm)\"\n",
        "\n",
        "var_folders = [\n",
        "    os.path.join(tmp_dir, tail_name, var_format.format(tail_name, x))\n",
        "    for x in var_list\n",
        "]\n",
        "for folder in var_folders:\n",
        "    if not os.path.isdir(folder):\n",
        "        raise FileNotFoundError(folder)"
      ],
      "outputs": [],
      "execution_count": 80,
      "metadata": {
        "collapsed": false,
        "outputHidden": false,
        "inputHidden": false
      }
    },
    {
      "cell_type": "code",
      "source": [
        "coh_totmax = []\n",
        "coh_max = []\n",
        "coh_center = []\n",
        "totmax = [0, 0, 0]      # [x, y, val]\n",
        "coh_maxtrace = []\n",
        "for folder in var_folders:\n",
        "    im = -np.load(os.path.join(folder, os.path.basename(folder) + \"_imrec_min.npy\"))\n",
        "    \n",
        "    _totmax = np.unravel_index(np.argmax(im), im.shape)\n",
        "    coh_totmax.append(im[_totmax])\n",
        "    if im[_totmax] > totmax[2]:\n",
        "        totmax[0], totmax[1] = _totmax[0], _totmax[1]\n",
        "        totmax[2] = im[_totmax]\n",
        "    \n",
        "    xcut, ycut = im.shape[0] // 3, im.shape[1] // 3\n",
        "    im_max = im[xcut:2 * xcut, ycut:2 * ycut]\n",
        "    coh_max.append(np.max(im_max))\n",
        "    \n",
        "    xcut, ycut = im.shape[0] // 2, im.shape[1] // 2\n",
        "    im_center = im[xcut - 10:xcut + 11, ycut - 10:ycut + 11]\n",
        "    coh_center.append(np.max(im_center))\n",
        "    \n",
        "for folder in var_folders:\n",
        "    im = -np.load(os.path.join(folder, os.path.basename(folder) + \"_imrec_min.npy\"))\n",
        "    coh_maxtrace.append(im[totmax[0], totmax[1]])"
      ],
      "outputs": [],
      "execution_count": 81,
      "metadata": {
        "collapsed": false,
        "outputHidden": false,
        "inputHidden": false
      }
    },
    {
      "cell_type": "code",
      "source": [
        "%matplotlib\n",
        "var_list = np.array(var_list) - 5000\n",
        "plt.plot(var_list, coh_totmax, label=\"totmax\")\n",
        "plt.plot(var_list, coh_max, label=\"max\")\n",
        "plt.plot(var_list, coh_center, label=\"center\")\n",
        "plt.plot(var_list, coh_maxtrace, label=\"maxtrace\")\n",
        "plt.title(var_title)\n",
        "plt.xlabel(var_label)\n",
        "plt.ylabel(\"Spatial coherence\")\n",
        "plt.legend()\n",
        "plt.show()"
      ],
      "outputs": [
        {
          "output_type": "stream",
          "name": "stdout",
          "text": [
            "Using matplotlib backend: TkAgg\n"
          ]
        }
      ],
      "execution_count": 82,
      "metadata": {
        "collapsed": false,
        "outputHidden": false,
        "inputHidden": false
      }
    },
    {
      "cell_type": "code",
      "source": [],
      "outputs": [],
      "execution_count": null,
      "metadata": {
        "collapsed": false,
        "outputHidden": false,
        "inputHidden": false
      }
    }
  ],
  "metadata": {
    "kernel_info": {
      "name": "python3"
    },
    "language_info": {
      "name": "python",
      "version": "3.7.0",
      "mimetype": "text/x-python",
      "codemirror_mode": {
        "name": "ipython",
        "version": 3
      },
      "pygments_lexer": "ipython3",
      "nbconvert_exporter": "python",
      "file_extension": ".py"
    },
    "kernelspec": {
      "name": "python3",
      "language": "python",
      "display_name": "Python 3"
    },
    "nteract": {
      "version": "0.11.9"
    }
  },
  "nbformat": 4,
  "nbformat_minor": 4
}