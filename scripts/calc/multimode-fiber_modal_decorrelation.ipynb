{
  "cells": [
    {
      "cell_type": "markdown",
      "source": [
        "# Multimode-Fiber Modal Decorrelation"
      ],
      "metadata": {}
    },
    {
      "cell_type": "code",
      "source": [
        "import numpy as np"
      ],
      "outputs": [],
      "execution_count": 34,
      "metadata": {
        "collapsed": false,
        "outputHidden": false,
        "inputHidden": false
      }
    },
    {
      "cell_type": "code",
      "source": [
        "# Center wavelength\n",
        "wl_c = 780e-9\n",
        "# Spectral FWHM\n",
        "wl_fwhm = 7e-9\n",
        "# Mode-locked laser repetition rate\n",
        "fc_repr = 250e6\n",
        "# Fiber NA\n",
        "mmf_na = 0.22\n",
        "# Fiber core diameter\n",
        "mmf_d = 105e-6\n",
        "# Fiber refraction index\n",
        "mmf_refr = 1.5\n",
        "# Fiber length\n",
        "mmf_len = 5.0\n",
        "# Light speed\n",
        "c = 300e6"
      ],
      "outputs": [],
      "execution_count": 37,
      "metadata": {
        "collapsed": false,
        "outputHidden": false,
        "inputHidden": false
      }
    },
    {
      "cell_type": "code",
      "source": [
        "mod_num_lin = 4 * mmf_d * mmf_na / wl_c\n",
        "mod_num_tot = mod_num_lin**2\n",
        "mod_disp = mmf_na**2 * mmf_len / 2 / mmf_refr / c\n",
        "coh_time = np.sqrt(2 * np.log(2) / np.pi / 1.5) * wl_c**2 / wl_fwhm * mmf_refr / c\n",
        "decor_time_lin = coh_time * mod_num_lin\n",
        "decor_time_tot = coh_time * mod_num_tot\n",
        "fc_time = mmf_refr / fc_repr\n",
        "print(\"Linear (non-degenerate) mode number: {:.0f}\".format(mod_num_lin))\n",
        "print(\"Modal dispersion: {:.0f}ps\".format(mod_disp * 1e12))\n",
        "print(\"Coherence time: {:.3f}ps\".format(coh_time * 1e12))\n",
        "print(\"Non-degenerate fiber decorrelation time: {:.1f}ps ({:.2f}m)\".format(decor_time_lin * 1e12, decor_time_lin * c))\n",
        "print(\"Total fiber decorrelation time: {:.1f}ps ({:.2f}m)\".format(decor_time_tot * 1e12, decor_time_tot * c))\n",
        "print(\"Frequency comb maximal decorrelation time: {:.1f}ps ({:.2f}m)\".format(fc_time * 1e12, fc_time * c))"
      ],
      "outputs": [
        {
          "output_type": "stream",
          "name": "stdout",
          "text": [
            "Linear (non-degenerate) mode number: 118\n",
            "Modal dispersion: 269ps\n",
            "Coherence time: 0.236ps\n",
            "Non-degenerate fiber decorrelation time: 27.9ps (0.01m)\n",
            "Total fiber decorrelation time: 3307.7ps (0.99m)\n",
            "Frequency comb maximal decorrelation time: 6000.0ps (1.80m)\n"
          ]
        }
      ],
      "execution_count": 38,
      "metadata": {
        "collapsed": false,
        "outputHidden": false,
        "inputHidden": false
      }
    },
    {
      "cell_type": "code",
      "source": [],
      "outputs": [],
      "execution_count": null,
      "metadata": {
        "collapsed": false,
        "outputHidden": false,
        "inputHidden": false
      }
    }
  ],
  "metadata": {
    "kernel_info": {
      "name": "python3"
    },
    "language_info": {
      "name": "python",
      "version": "3.7.0",
      "mimetype": "text/x-python",
      "codemirror_mode": {
        "name": "ipython",
        "version": 3
      },
      "pygments_lexer": "ipython3",
      "nbconvert_exporter": "python",
      "file_extension": ".py"
    },
    "kernelspec": {
      "name": "python3",
      "language": "python",
      "display_name": "Python 3"
    },
    "nteract": {
      "version": "0.11.9"
    }
  },
  "nbformat": 4,
  "nbformat_minor": 4
}