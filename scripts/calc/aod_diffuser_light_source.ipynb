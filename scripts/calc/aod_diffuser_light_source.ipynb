{
  "cells": [
    {
      "cell_type": "markdown",
      "source": [
        "# AOD Diffuser Light Source"
      ],
      "metadata": {
        "collapsed": false,
        "outputHidden": false,
        "inputHidden": false
      }
    },
    {
      "cell_type": "code",
      "source": [
        "import numpy as np"
      ],
      "outputs": [],
      "execution_count": 1,
      "metadata": {
        "collapsed": false,
        "outputHidden": false,
        "inputHidden": false
      }
    },
    {
      "cell_type": "markdown",
      "source": [
        "## Correlation Angle\n",
        "\n",
        "The correlation angle is mainly determined by the translation of the speckle pattern due to a different angle of incidence. For a collimated Gaussian beam, it is thus given by\n",
        "\n",
        "$\\theta_c = \\frac{\\lambda}{2 \\pi w}$\n",
        "\nwith $\\lambda$ the wavelength of the light and $w$ the intensity width of the Gaussian beam."
      ],
      "metadata": {}
    },
    {
      "cell_type": "code",
      "source": [
        "# Wavelength in µm\n",
        "wavelength = 0.42\n",
        "# Gaussian beam width in µm\n",
        "beamwidth = 200.0\n",
        "\n",
        "# Correlation angle in rad\n",
        "cor_angle = wavelength / (2 * np.pi * beamwidth)\n",
        "print(\"correlation angle: {:.3f}mrad\".format(1e3 * cor_angle))"
      ],
      "outputs": [
        {
          "output_type": "stream",
          "name": "stdout",
          "text": [
            "correlation angle: 0.334mrad\n"
          ]
        }
      ],
      "execution_count": 31,
      "metadata": {}
    },
    {
      "cell_type": "markdown",
      "source": [
        "## Deflection Angle\n",
        "\n",
        "The AOD's deflection angle $\\theta = 2 \\theta_B$ is induced by the change of the Bragg angle $\\sin \\theta_B = \\lambda / 2 \\lambda_a$ due to a change in the acoustic wavelength $\\lambda_a = v_a / f_a$ with $v_a$ the acoustic velocity and $f_a$ the acoustic frequency.\n",
        "\n",
        "Given a frequency modulation bandwidth of $\\Delta f_a$, the angle can be scanned in the range\n",
        "\n",
        "$\\Delta \\theta = \\frac{\\lambda \\Delta f_a}{v_a}$\n",
        "\nwith $\\lambda$ the optical wavelength."
      ],
      "metadata": {}
    },
    {
      "cell_type": "code",
      "source": [
        "# Acoustic velocity in m/s == µm*MHz\n",
        "ac_velocity = 650.0\n",
        "# Modulation bandwidth in MHz\n",
        "ac_frequency_bw = 60.0\n",
        "\n",
        "# Deflection angle in rad\n",
        "defl_angle = wavelength * ac_frequency_bw / ac_velocity\n",
        "print(\"deflection angle: {:.3f}mrad\".format(1e3 * defl_angle))"
      ],
      "outputs": [
        {
          "output_type": "stream",
          "name": "stdout",
          "text": [
            "deflection angle: 38.769mrad\n"
          ]
        }
      ],
      "execution_count": 32,
      "metadata": {}
    },
    {
      "cell_type": "markdown",
      "source": [
        "## 2D Modulation Pattern\n",
        "\n",
        "Assuming linear modulation to have equal differential decorrelation,\n",
        "the 2D modulation pattern is defined by the ratio of modulation frequencies in both directions.\n",
        "\n",
        "Having a fundamental frequency $F_\\text{FM}$ and an integer modulation frequency ratio $F_h$ : $F_v$ in the horizontal $h$ and vertical $v$ direction, the total effective deflection angle is given by\n",
        "\n$\\Theta = \\Delta \\theta \\sqrt{F_h^2 + F_v^2}$."
      ],
      "metadata": {
        "collapsed": false,
        "outputHidden": false,
        "inputHidden": false
      }
    },
    {
      "cell_type": "code",
      "source": [
        "# Horizontal frequency multiple of fundamental frequency\n",
        "freq_ratio_h = 2\n",
        "# Vertical frequency multiple of fundamental frequency\n",
        "freq_ratio_v = 3\n",
        "\n",
        "# Effective deflection angle in rad\n",
        "eff_angle = defl_angle * np.sqrt(freq_ratio_h**2 + freq_ratio_v**2)\n",
        "print(\"effective deflection angle: {:.3f}mrad\".format(1e3 * eff_angle))"
      ],
      "outputs": [
        {
          "output_type": "stream",
          "name": "stdout",
          "text": [
            "effective deflection angle: 139.784mrad\n"
          ]
        }
      ],
      "execution_count": 33,
      "metadata": {}
    },
    {
      "cell_type": "markdown",
      "source": [
        "## FM Deflection Resolution\n",
        "\n",
        "The rise time of an acousto optic modulator is given by\n",
        "\n",
        "$\\tau = \\frac{2 w}{v_a}$.\n",
        "\n",
        "Having modulation times much faster than the rise time makes it impossible to deflect the beam in a controlled manner. Let the frequency modulation resolvability be defined as the ratio between the modulation period and the rise time\n",
        "\n",
        "$N_\\text{FM} = \\frac{1}{\\max (F_h, F_v) F_\\text{FM} \\tau}$.\n",
        "\nThis quantity describes how many uncorrelated output beams are created during modulation."
      ],
      "metadata": {
        "collapsed": false,
        "outputHidden": false,
        "inputHidden": false
      }
    },
    {
      "cell_type": "code",
      "source": [
        "# Fundamental modulation frequency in Hz\n",
        "fund_frequency = 100000.0\n",
        "\n",
        "# Rise time in µs\n",
        "rise_time = 2 * beamwidth / ac_velocity\n",
        "print(\"rise time: {:.3f}µs\".format(rise_time))\n",
        "# FM modulation resolvability\n",
        "mod_count = 1 / (max(freq_ratio_h, freq_ratio_v)\n",
        "                 * fund_frequency * rise_time * 1e-6)\n",
        "print(\"modulation count: {:.0f}\".format(mod_count))"
      ],
      "outputs": [
        {
          "output_type": "stream",
          "name": "stdout",
          "text": [
            "rise time: 0.615µs\n",
            "modulation count: 5\n"
          ]
        }
      ],
      "execution_count": 34,
      "metadata": {}
    },
    {
      "cell_type": "markdown",
      "source": [
        "## Speckle Contrast\n",
        "\n",
        "The speckle contrast is determined by the effective number of uncorrelated beams produced during modulation. It is limited by the effective deflection angle, the decorrelation angle and for fast modulation speeds the modulation count.\n",
        "\n",
        "The contrast itself is the relative standard deviation of the intensity across the beam. After determining the number of uncorrelated superpositions $N$, according to the central limit theorem, the contrast is given by\n",
        "\n$C = \\frac{1}{\\sqrt{N}} = \\sqrt{\\frac{\\theta_c}{\\Theta} \\frac{1}{1 - 1 / N_\\text{FM}}}$."
      ],
      "metadata": {
        "collapsed": false,
        "outputHidden": false,
        "inputHidden": false
      }
    },
    {
      "cell_type": "code",
      "source": [
        "# Static limit speckle contrast\n",
        "contrast_static = np.sqrt(cor_angle / eff_angle)\n",
        "print(\"static limit contrast: {:.4f}\".format(contrast_static))\n",
        "# Modulation count contrast factor\n",
        "mod_contrast_factor = 1 / np.sqrt(1 - 1 / mod_count)\n",
        "print(\"modulation count contrast factor: {:.4f}\".format(mod_contrast_factor))\n",
        "# Expected speckle contrast\n",
        "contrast = np.sqrt(cor_angle / eff_angle / (1 - 1 / mod_count))\n",
        "print(\"expected contrast: {:.4f}\".format(contrast))"
      ],
      "outputs": [
        {
          "output_type": "stream",
          "name": "stdout",
          "text": [
            "static limit contrast: 0.0489\n",
            "modulation count contrast factor: 1.1074\n",
            "expected contrast: 0.0542\n"
          ]
        }
      ],
      "execution_count": 35,
      "metadata": {}
    },
    {
      "cell_type": "markdown",
      "source": [],
      "metadata": {}
    }
  ],
  "metadata": {
    "kernel_info": {
      "name": "python3"
    },
    "language_info": {
      "name": "python",
      "version": "3.7.0",
      "mimetype": "text/x-python",
      "codemirror_mode": {
        "name": "ipython",
        "version": 3
      },
      "pygments_lexer": "ipython3",
      "nbconvert_exporter": "python",
      "file_extension": ".py"
    },
    "kernelspec": {
      "name": "python3",
      "language": "python",
      "display_name": "Python 3"
    },
    "nteract": {
      "version": "0.11.6"
    }
  },
  "nbformat": 4,
  "nbformat_minor": 4
}