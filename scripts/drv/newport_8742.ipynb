{
 "cells": [
  {
   "cell_type": "markdown",
   "metadata": {},
   "source": [
    "#### libics: drivers\n",
    "\n",
    "# Newport 8742 Pico Controller\n",
    "\n",
    "Product homepage: [Motion Controller, Picomotor, Open-Loop, 4 Channel](https://www.newport.com/p/8742)"
   ]
  },
  {
   "cell_type": "markdown",
   "metadata": {},
   "source": [
    "### Imports"
   ]
  },
  {
   "cell_type": "code",
   "execution_count": 1,
   "metadata": {},
   "outputs": [
    {
     "name": "stdout",
     "output_type": "stream",
     "text": [
      "    Could not load AlliedVision Vimba API.\n",
      "        If you are using a Vimba camera, install the Vimba C API and the\n",
      "        Python wrapper `pymba`.\n",
      "    \n"
     ]
    }
   ],
   "source": [
    "from libics.drv import drv\n",
    "from libics.drv.itf import itf"
   ]
  },
  {
   "cell_type": "markdown",
   "metadata": {},
   "source": [
    "### Configuration"
   ]
  },
  {
   "cell_type": "code",
   "execution_count": 2,
   "metadata": {},
   "outputs": [
    {
     "data": {
      "text/plain": [
       "<libics.drv.itf.itf.TxtCfgBase at 0x1a5af91c0b8>"
      ]
     },
     "execution_count": 2,
     "metadata": {},
     "output_type": "execute_result"
    }
   ],
   "source": [
    "itf.TxtEthernetCfg()\n",
    "itf.TxtCfgBase()"
   ]
  },
  {
   "cell_type": "code",
   "execution_count": 3,
   "metadata": {},
   "outputs": [],
   "source": [
    "itf_cfg = {\n",
    "    \"protocol\": itf.ITF_PROTOCOL.TEXT,\n",
    "    \"interface\": itf.ITF_TXT.ETHERNET,\n",
    "    \"address\": \"130.183.96.234\",\n",
    "    \"buffer_size\": 1024,\n",
    "    \"send_timeout\": 1.0,\n",
    "    \"send_termchar\": \"\\r\\n\",\n",
    "    \"recv_timeout\": 1.0,\n",
    "    \"recv_termchar\": \"\\r\\n\",\n",
    "    \"txt_ethernet_type\": itf.TXT_ETHERNET_TYPE.GENERIC,\n",
    "    \"port\": 23,\n",
    "    \"blocking\": True,\n",
    "}\n",
    "itf_cfg = itf.ProtocolCfgBase(**itf_cfg).get_hl_cfg()"
   ]
  },
  {
   "cell_type": "code",
   "execution_count": 10,
   "metadata": {},
   "outputs": [],
   "source": [
    "drv_cfg = {\n",
    "    \"driver\": drv.DRV_DRIVER.PICO,\n",
    "    \"interface\": itf_cfg,\n",
    "    \"identifier\": \"66048\",\n",
    "    \"model\": drv.DRV_MODEL.NEWPORT_8742,\n",
    "    \"acceleration\": 100000,\n",
    "    \"velocity\": 1750,\n",
    "    \"channel\": 1,\n",
    "    \"feedback_mode\": drv.DRV_PICO.FEEDBACK_MODE.OPEN_LOOP\n",
    "}\n",
    "drv_cfg = drv.DrvCfgBase(**drv_cfg).get_hl_cfg()"
   ]
  },
  {
   "cell_type": "markdown",
   "metadata": {},
   "source": [
    "### Setup"
   ]
  },
  {
   "cell_type": "code",
   "execution_count": 11,
   "metadata": {},
   "outputs": [],
   "source": [
    "pico = drv.DrvBase(cfg=drv_cfg).get_drv()"
   ]
  },
  {
   "cell_type": "markdown",
   "metadata": {},
   "source": [
    "### Script"
   ]
  },
  {
   "cell_type": "markdown",
   "metadata": {},
   "source": [
    "##### Demo script"
   ]
  },
  {
   "cell_type": "code",
   "execution_count": 12,
   "metadata": {},
   "outputs": [
    {
     "name": "stdout",
     "output_type": "stream",
     "text": [
      "Reading configuration\n",
      "Starting position\n",
      "  -1000 steps\n",
      "Move relative\n",
      "  0 steps\n",
      "Zero position\n",
      "  0 steps\n",
      "Move back\n",
      "  -1000 steps\n",
      "Scan slave devices\n",
      "  [1]\n",
      "Reading error\n",
      "  208, MOTOR NOT CONNECTED\n"
     ]
    }
   ],
   "source": [
    "with pico:\n",
    "    print(\"Reading configuration\")\n",
    "    pico.read_all()\n",
    "    print(\"Starting position\")\n",
    "    _pos = pico.read_position()\n",
    "    print(\"  {:d} steps\".format(_pos))\n",
    "    print(\"Move relative\")\n",
    "    pico.move_relative(1000)\n",
    "    _pos = pico.read_position()\n",
    "    print(\"  {:d} steps\".format(_pos))\n",
    "    print(\"Zero position\")\n",
    "    pico.zero_position()\n",
    "    _pos = pico.read_position()\n",
    "    print(\"  {:d} steps\".format(_pos))\n",
    "    print(\"Move back\")\n",
    "    pico.move_relative(-1000)\n",
    "    _pos = pico.read_position()\n",
    "    print(\"  {:d} steps\".format(_pos))\n",
    "    print(\"Scan slave devices\")\n",
    "    _dev = pico.scan_slave_devices()\n",
    "    print(\" \", _dev)\n",
    "    print(\"Reading error\")\n",
    "    _err = pico.read_error()\n",
    "    print(\" \", _err)"
   ]
  },
  {
   "cell_type": "code",
   "execution_count": null,
   "metadata": {},
   "outputs": [],
   "source": []
  }
 ],
 "metadata": {
  "kernelspec": {
   "display_name": "Python 3",
   "language": "python",
   "name": "python3"
  },
  "language_info": {
   "codemirror_mode": {
    "name": "ipython",
    "version": 3
   },
   "file_extension": ".py",
   "mimetype": "text/x-python",
   "name": "python",
   "nbconvert_exporter": "python",
   "pygments_lexer": "ipython3",
   "version": "3.7.3"
  }
 },
 "nbformat": 4,
 "nbformat_minor": 4
}
