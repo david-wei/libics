{
 "cells": [
  {
   "cell_type": "markdown",
   "metadata": {},
   "source": [
    "#### libics: drivers\n",
    "\n",
    "# Vialux V-7000 / Texas Instruments DLP7000\n",
    "\n",
    "Product homepage: [Vialux V-7000](https://www.vialux.de/de/hi-speed-v-module.html)"
   ]
  },
  {
   "cell_type": "markdown",
   "metadata": {},
   "source": [
    "### Imports"
   ]
  },
  {
   "cell_type": "code",
   "execution_count": 1,
   "metadata": {},
   "outputs": [],
   "source": [
    "import os\n",
    "import time\n",
    "\n",
    "import numpy as np\n",
    "import matplotlib.pyplot as plt\n",
    "\n",
    "from libics import env\n",
    "from libics.drv import drv\n",
    "from libics.drv.itf import itf\n",
    "from libics.data import types, dataset, stp\n",
    "from libics.display import plot, plotdefault\n",
    "from libics.file import hdf"
   ]
  },
  {
   "cell_type": "markdown",
   "metadata": {},
   "source": [
    "### Configuration"
   ]
  },
  {
   "cell_type": "code",
   "execution_count": 2,
   "metadata": {},
   "outputs": [],
   "source": [
    "itf_cfg = {\n",
    "    \"protocol\": itf.ITF_PROTOCOL.BINARY,\n",
    "    \"interface\": itf.ITF_BIN.VIALUX,\n",
    "    \"device\": None\n",
    "}\n",
    "itf_cfg = itf.ProtocolCfgBase(**itf_cfg).get_hl_cfg()"
   ]
  },
  {
   "cell_type": "code",
   "execution_count": 8,
   "metadata": {},
   "outputs": [],
   "source": [
    "drv_cfg = {\n",
    "    \"driver\": drv.DRV_DRIVER.DSP,\n",
    "    \"interface\": itf_cfg,\n",
    "    \"identifier\": \"dmd_vialux_v7000_texasinstruments_dlp7000\",\n",
    "    \"model\": drv.DRV_MODEL.TEXASINSTRUMENTS_DLP7000,\n",
    "    \"pixel_hrzt_count\": 1024,\n",
    "    \"pixel_hrzt_size\": 13.68e-6,\n",
    "    \"pixel_hrzt_offset\": 0,\n",
    "    \"pixel_vert_count\": 768,\n",
    "    \"pixel_vert_size\": 13.68e-6,\n",
    "    \"pixel_vert_offset\": 0,\n",
    "    \"format_color\": drv.DRV_DSP.FORMAT_COLOR.BW,\n",
    "    \"channel_bitdepth\": 1,\n",
    "    \"picture_time\": 1,\n",
    "    \"dark_time\": 0,\n",
    "    \"sequence_repetitions\": 0,\n",
    "    \"temperature\": 25.0\n",
    "}\n",
    "drv_cfg = drv.DrvCfgBase(**drv_cfg).get_hl_cfg()"
   ]
  },
  {
   "cell_type": "markdown",
   "metadata": {},
   "source": [
    "### Setup"
   ]
  },
  {
   "cell_type": "code",
   "execution_count": 9,
   "metadata": {},
   "outputs": [],
   "source": [
    "dsp = drv.DrvBase(cfg=drv_cfg).get_drv()\n",
    "sleep_time = 20.0"
   ]
  },
  {
   "cell_type": "markdown",
   "metadata": {},
   "source": [
    "### Script"
   ]
  },
  {
   "cell_type": "markdown",
   "metadata": {},
   "source": [
    "##### Create data"
   ]
  },
  {
   "cell_type": "code",
   "execution_count": 10,
   "metadata": {},
   "outputs": [
    {
     "data": {
      "image/png": "[encoded data removed]",
      "text/plain": [
       "<Figure size 432x288 with 3 Axes>"
      ]
     },
     "metadata": {
      "needs_background": "light"
     },
     "output_type": "display_data"
    }
   ],
   "source": [
    "val = 96\n",
    "im1 = np.arange(1024 * 768, dtype=float).reshape((1024, 768))\n",
    "im1[im1 % val < val / 2] = 0\n",
    "im1[im1 % val >= val / 2] = 1\n",
    "plt.subplot(131)\n",
    "plt.imshow(im1.T, vmin=0, vmax=1)\n",
    "im2 = np.full((1024, 768), 0, dtype=float)\n",
    "plt.subplot(132)\n",
    "plt.imshow(im2.T, vmin=0, vmax=1)\n",
    "im3 = np.full((1024, 768), 1, dtype=float)\n",
    "plt.subplot(133)\n",
    "plt.imshow(im3.T, vmin=0, vmax=1)\n",
    "plt.tight_layout()\n",
    "im = [im1, im2, im3]"
   ]
  },
  {
   "cell_type": "markdown",
   "metadata": {},
   "source": [
    "##### Set image"
   ]
  },
  {
   "cell_type": "code",
   "execution_count": 11,
   "metadata": {},
   "outputs": [
    {
     "name": "stdout",
     "output_type": "stream",
     "text": [
      "AlpDevAlloc: ALP_OK\n",
      "AlpSeqAlloc: ALP_OK\n",
      "AlpSeqTiming: ALP_OK\n",
      "AlpSeqControl: ALP_OK, ALP_BIN_MODE is ALP_BIN_UNINTERRUPTED\n",
      "AlpSeqTiming: ALP_OK\n",
      "AlpSeqPut: ALP_OK\n",
      "AlpSeqPut: ALP_OK\n",
      "AlpSeqPut: ALP_OK\n",
      "AlpProjStartCont: ALP_OK\n",
      "AlpProjHalt: ALP_OK\n",
      "AlpSeqFree: ALP_OK\n",
      "AlpDevHalt: ALP_OK\n",
      "AlpDevFree: ALP_NOT_AVAILABLE\n"
     ]
    }
   ],
   "source": [
    "with dsp:\n",
    "    dsp.init(im)\n",
    "    dsp.write_all()\n",
    "    dsp.run()\n",
    "    time.sleep(sleep_time)\n",
    "    dsp.stop()"
   ]
  },
  {
   "cell_type": "code",
   "execution_count": null,
   "metadata": {},
   "outputs": [],
   "source": []
  }
 ],
 "metadata": {
  "kernel_info": {
   "name": "python3"
  },
  "kernelspec": {
   "display_name": "Python 3",
   "language": "python",
   "name": "python3"
  },
  "language_info": {
   "codemirror_mode": {
    "name": "ipython",
    "version": 3
   },
   "file_extension": ".py",
   "mimetype": "text/x-python",
   "name": "python",
   "nbconvert_exporter": "python",
   "pygments_lexer": "ipython3",
   "version": "3.7.1"
  },
  "nteract": {
   "version": "0.12.3"
  }
 },
 "nbformat": 4,
 "nbformat_minor": 2
}
