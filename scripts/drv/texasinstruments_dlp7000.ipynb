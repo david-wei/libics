{
 "cells": [
  {
   "cell_type": "markdown",
   "metadata": {},
   "source": [
    "#### libics: drivers\n",
    "\n",
    "# Vialux V-7000 / Texas Instruments DLP7000\n",
    "\n",
    "Product homepage: [Vialux V-7000](https://www.vialux.de/de/hi-speed-v-module.html)"
   ]
  },
  {
   "cell_type": "markdown",
   "metadata": {},
   "source": [
    "### Imports"
   ]
  },
  {
   "cell_type": "code",
   "execution_count": null,
   "metadata": {},
   "outputs": [],
   "source": [
    "import os\n",
    "import time\n",
    "\n",
    "import numpy as np\n",
    "from scipy import ndimage\n",
    "import matplotlib.pyplot as plt\n",
    "import PIL\n",
    "\n",
    "from libics import env\n",
    "from libics.drv import drv\n",
    "from libics.drv.itf import itf\n",
    "from libics.data import types, dataset, stp\n",
    "from libics.display import plot, plotdefault\n",
    "from libics.file import hdf\n",
    "from libics.util import misc"
   ]
  },
  {
   "cell_type": "markdown",
   "metadata": {},
   "source": [
    "### Configuration"
   ]
  },
  {
   "cell_type": "code",
   "execution_count": null,
   "metadata": {},
   "outputs": [],
   "source": [
    "itf_cfg = {\n",
    "    \"protocol\": itf.ITF_PROTOCOL.BINARY,\n",
    "    \"interface\": itf.ITF_BIN.VIALUX,\n",
    "    \"device\": None\n",
    "}\n",
    "itf_cfg = itf.ProtocolCfgBase(**itf_cfg).get_hl_cfg()"
   ]
  },
  {
   "cell_type": "code",
   "execution_count": null,
   "metadata": {},
   "outputs": [],
   "source": [
    "drv_cfg = {\n",
    "    \"driver\": drv.DRV_DRIVER.DSP,\n",
    "    \"interface\": itf_cfg,\n",
    "    \"identifier\": \"dmd_vialux_v7000_texasinstruments_dlp7000\",\n",
    "    \"model\": drv.DRV_MODEL.TEXASINSTRUMENTS_DLP7000,\n",
    "    \"pixel_hrzt_count\": 1024,\n",
    "    \"pixel_hrzt_size\": 13.68e-6,\n",
    "    \"pixel_hrzt_offset\": 0,\n",
    "    \"pixel_vert_count\": 768,\n",
    "    \"pixel_vert_size\": 13.68e-6,\n",
    "    \"pixel_vert_offset\": 0,\n",
    "    \"format_color\": drv.DRV_DSP.FORMAT_COLOR.BW,\n",
    "    \"channel_bitdepth\": 1,\n",
    "    \"picture_time\": 9,\n",
    "    \"dark_time\": 0,\n",
    "    \"sequence_repetitions\": 0,\n",
    "    \"temperature\": 25.0\n",
    "}\n",
    "drv_cfg = drv.DrvCfgBase(**drv_cfg).get_hl_cfg()"
   ]
  },
  {
   "cell_type": "markdown",
   "metadata": {},
   "source": [
    "### Setup"
   ]
  },
  {
   "cell_type": "markdown",
   "metadata": {},
   "source": [
    "##### Driver"
   ]
  },
  {
   "cell_type": "code",
   "execution_count": null,
   "metadata": {},
   "outputs": [],
   "source": [
    "dsp = drv.DrvBase(cfg=drv_cfg).get_drv()"
   ]
  },
  {
   "cell_type": "code",
   "execution_count": null,
   "metadata": {},
   "outputs": [],
   "source": [
    "def setup(dsp):\n",
    "    dsp.setup()\n",
    "    dsp.connect()\n",
    "\n",
    "def shutdown(dsp):\n",
    "    dsp.stop()\n",
    "    dsp.close()\n",
    "    dsp.shutdown()\n",
    "\n",
    "def set_pattern(dsp, pattern):\n",
    "    dsp.stop()\n",
    "    dsp.init(pattern)\n",
    "    dsp.write_all()\n",
    "    dsp.run()"
   ]
  },
  {
   "cell_type": "markdown",
   "metadata": {},
   "source": [
    "##### Pattern Generator"
   ]
  },
  {
   "cell_type": "code",
   "execution_count": null,
   "metadata": {},
   "outputs": [],
   "source": [
    "def pattern_uniform(val=1, shape=(1024, 768), plot=False):\n",
    "    pattern = np.full(shape, val, dtype=float)\n",
    "    if plot:\n",
    "        plot_pattern(pattern)\n",
    "    return pattern\n",
    "\n",
    "def pattern_box(center=(511, 383), size=(1, 1), shape=(1024, 768), plot=False):\n",
    "    if np.isscalar(size):\n",
    "        size = (size, size)\n",
    "    if np.isscalar(center):\n",
    "        center = (center, center)\n",
    "    dx = (size[0] - 1) // 2, size[0] - (size[0] - 1) // 2\n",
    "    dy = (size[1] - 1) // 2, size[1] - (size[1] - 1) // 2\n",
    "    pattern = np.zeros(shape, dtype=float)\n",
    "    pattern[\n",
    "        center[0]-dx[0]:center[0]+dx[1], center[1]-dy[0]:center[1]+dy[1]\n",
    "    ] = 1\n",
    "    if plot:\n",
    "        plot_pattern(pattern)\n",
    "    return pattern\n",
    "\n",
    "def pattern_grid(offset=(0, 0), size=(1, 1), shape=(1024, 768), plot=False):\n",
    "    \"\"\"\n",
    "    offset : tuple(int)\n",
    "        Box pattern (x, y) phase shift.\n",
    "        0 corresponds to black block, 1 corresponds to white block.\n",
    "    \"\"\"\n",
    "    if np.isscalar(size):\n",
    "        size = (size, size)\n",
    "    if np.isscalar(offset):\n",
    "        offset = (offset, offset)\n",
    "    block_x, block_y = (\n",
    "        np.roll(np.concatenate((np.zeros(size[0]), np.ones(size[0]))), offset[0]),\n",
    "        np.roll(np.concatenate((np.zeros(size[1]), np.ones(size[1]))), offset[1])\n",
    "    )\n",
    "    block = np.logical_xor.outer(block_x, block_y)\n",
    "    repetition = np.ones(np.ceil(np.array(shape) / np.array(size)).astype(int))\n",
    "    pattern = np.kron(repetition, block)[:shape[0], :shape[1]].astype(float)\n",
    "    if plot:\n",
    "        plot_pattern(pattern)\n",
    "    return pattern\n",
    "\n",
    "def pattern_ellipse(center=(511, 383), radius=(200, 200), shape=(1024, 768), plot=False):\n",
    "    if np.isscalar(center):\n",
    "        center = (center, center)\n",
    "    if np.isscalar(radius):\n",
    "        radius = (radius, radius)\n",
    "    pattern = np.zeros(shape, dtype=float)\n",
    "    if radius[0] > 0 and radius[1] > 0:\n",
    "        x, y = np.indices(pattern.shape, dtype=float)\n",
    "        mask = ((x - center[0])**2 / radius[0]**2 + (y - center[1])**2 / radius[1]**2 <= 1)\n",
    "        pattern[mask] = 1\n",
    "    if plot:\n",
    "        plot_pattern(pattern)\n",
    "    return pattern\n",
    "\n",
    "def pattern_line(center=383, size=1, orientation=\"x\", shape=(1024, 768), plot=False):\n",
    "    \"\"\"\n",
    "    center : int\n",
    "        Center of line.\n",
    "    size : int\n",
    "        Width of line.\n",
    "    orientation : str\n",
    "        \"x\" (\"horizontal\"), \"y\" (\"vertical\").\n",
    "    \"\"\"\n",
    "    pattern = np.zeros(shape, dtype=float)\n",
    "    if orientation == \"horizontal\" or orientation == \"x\":\n",
    "        pattern[center] = 1\n",
    "    elif orientation == \"vertical\" or orientation == \"y\":\n",
    "        pattern[:, center] = 1\n",
    "    if plot:\n",
    "        plot_pattern(pattern)\n",
    "    return pattern\n",
    "\n",
    "def plot_pattern(pattern):\n",
    "    plt.pcolormesh(1 - pattern.T, vmin=0, vmax=1, cmap=\"Greys\")\n",
    "    plt.gca().set_aspect(1)\n",
    "    \n",
    "def save_pattern(pattern, file_path):\n",
    "    im = PIL.Image.fromarray((pattern * 255).astype(\"uint8\").T)\n",
    "    file_path = misc.assume_endswith(file_path, \".bmp\")\n",
    "    im.save(file_path)"
   ]
  },
  {
   "cell_type": "markdown",
   "metadata": {},
   "source": [
    "### Script"
   ]
  },
  {
   "cell_type": "code",
   "execution_count": null,
   "metadata": {},
   "outputs": [],
   "source": [
    "setup(dsp)"
   ]
  },
  {
   "cell_type": "code",
   "execution_count": null,
   "metadata": {},
   "outputs": [],
   "source": [
    "pattern = pattern_uniform(val=1, plot=True)\n",
    "save_pattern(pattern, os.path.join(\n",
    "    env.DIR_USER, \"Desktop\", \"pattern_white.bmp\"\n",
    "))\n",
    "pattern = pattern_grid(size=16, plot=True)\n",
    "save_pattern(pattern, os.path.join(\n",
    "    env.DIR_USER, \"Desktop\", \"pattern_grid.bmp\"\n",
    "))"
   ]
  },
  {
   "cell_type": "code",
   "execution_count": null,
   "metadata": {},
   "outputs": [],
   "source": [
    "pattern = pattern_box(size=100, plot=True)\n",
    "set_pattern(dsp, pattern)"
   ]
  },
  {
   "cell_type": "code",
   "execution_count": null,
   "metadata": {},
   "outputs": [],
   "source": [
    "sizes = np.arange(10)**2\n",
    "for size in sizes.tolist():\n",
    "    pattern = pattern_box(size=size, plot=False)\n",
    "    set_pattern(dsp, pattern)\n",
    "    print(\"\\rBox dimensions: {0:d}x{0:d}\".format(size), end=\"       \")\n",
    "    time.sleep(1)"
   ]
  },
  {
   "cell_type": "code",
   "execution_count": null,
   "metadata": {},
   "outputs": [],
   "source": [
    "sizes = np.arange(10)**2 / 2\n",
    "for size in sizes.tolist():\n",
    "    pattern = pattern_ellipse(radius=size, plot=False)\n",
    "    set_pattern(dsp, pattern)\n",
    "    print(\"\\rCircle radius: {0:d}\".format(int(size)), end=\"       \")\n",
    "    time.sleep(1)"
   ]
  },
  {
   "cell_type": "code",
   "execution_count": null,
   "metadata": {},
   "outputs": [],
   "source": [
    "shutdown(dsp)"
   ]
  },
  {
   "cell_type": "code",
   "execution_count": null,
   "metadata": {},
   "outputs": [],
   "source": []
  }
 ],
 "metadata": {
  "kernel_info": {
   "name": "python3"
  },
  "kernelspec": {
   "display_name": "Python 3",
   "language": "python",
   "name": "python3"
  },
  "language_info": {
   "codemirror_mode": {
    "name": "ipython",
    "version": 3
   },
   "file_extension": ".py",
   "mimetype": "text/x-python",
   "name": "python",
   "nbconvert_exporter": "python",
   "pygments_lexer": "ipython3",
   "version": "3.7.1"
  },
  "nteract": {
   "version": "0.12.3"
  }
 },
 "nbformat": 4,
 "nbformat_minor": 2
}
