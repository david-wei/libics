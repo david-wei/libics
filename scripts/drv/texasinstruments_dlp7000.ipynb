{
 "cells": [
  {
   "cell_type": "markdown",
   "metadata": {},
   "source": [
    "#### libics: drivers\n",
    "\n",
    "# Vialux V-7000 / Texas Instruments DLP7000\n",
    "\n",
    "Product homepage: [Vialux V-7000](https://www.vialux.de/de/hi-speed-v-module.html)"
   ]
  },
  {
   "cell_type": "markdown",
   "metadata": {},
   "source": [
    "### Imports"
   ]
  },
  {
   "cell_type": "code",
   "execution_count": null,
   "metadata": {},
   "outputs": [],
   "source": [
    "import os\n",
    "import time\n",
    "\n",
    "import numpy as np\n",
    "import matplotlib.pyplot as plt\n",
    "\n",
    "from libics import env\n",
    "from libics.drv import drv\n",
    "from libics.drv.itf import itf\n",
    "from libics.data import types, dataset, stp\n",
    "from libics.display import plot, plotdefault\n",
    "from libics.file import hdf"
   ]
  },
  {
   "cell_type": "markdown",
   "metadata": {},
   "source": [
    "### Configuration"
   ]
  },
  {
   "cell_type": "code",
   "execution_count": null,
   "metadata": {},
   "outputs": [],
   "source": [
    "itf_cfg = {\n",
    "    \"protocol\": itf.ITF_PROTOCOL.BINARY,\n",
    "    \"interface\": itf.ITF_BIN.VIALUX,\n",
    "    \"device\": None\n",
    "}\n",
    "itf_cfg = itf.ProtocolCfgBase(**itf_cfg).get_hl_cfg()"
   ]
  },
  {
   "cell_type": "code",
   "execution_count": null,
   "metadata": {},
   "outputs": [],
   "source": [
    "drv_cfg = {\n",
    "    \"driver\": drv.DRV_DRIVER.DSP,\n",
    "    \"interface\": itf_cfg,\n",
    "    \"identifier\": \"dmd_vialux_v7000_texasinstruments_dlp7000\",\n",
    "    \"model\": drv.DRV_MODEL.TEXASINSTRUMENTS_DLP7000,\n",
    "    \"pixel_hrzt_count\": 1024,\n",
    "    \"pixel_hrzt_size\": 13.68e-6,\n",
    "    \"pixel_hrzt_offset\": 0,\n",
    "    \"pixel_vert_count\": 768,\n",
    "    \"pixel_vert_size\": 13.68e-6,\n",
    "    \"pixel_vert_offset\": 0,\n",
    "    \"format_color\": drv.DRV_DSP.FORMAT_COLOR.BW,\n",
    "    \"channel_bitdepth\": 1,\n",
    "    \"picture_time\": 9,\n",
    "    \"dark_time\": 0,\n",
    "    \"sequence_repetitions\": 0,\n",
    "    \"temperature\": 25.0\n",
    "}\n",
    "drv_cfg = drv.DrvCfgBase(**drv_cfg).get_hl_cfg()"
   ]
  },
  {
   "cell_type": "markdown",
   "metadata": {},
   "source": [
    "### Setup"
   ]
  },
  {
   "cell_type": "code",
   "execution_count": null,
   "metadata": {},
   "outputs": [],
   "source": [
    "dsp = drv.DrvBase(cfg=drv_cfg).get_drv()\n",
    "sleep_time = 5.0"
   ]
  },
  {
   "cell_type": "markdown",
   "metadata": {},
   "source": [
    "### Script"
   ]
  },
  {
   "cell_type": "markdown",
   "metadata": {},
   "source": [
    "##### Create data"
   ]
  },
  {
   "cell_type": "code",
   "execution_count": null,
   "metadata": {},
   "outputs": [],
   "source": [
    "val = 96\n",
    "im1 = np.arange(1024 * 768, dtype=float).reshape((1024, 768))\n",
    "im1[im1 % val < val / 2] = 0\n",
    "im1[im1 % val >= val / 2] = 1\n",
    "plt.subplot(121)\n",
    "plt.imshow(im1.T)\n",
    "im2 = np.full((1024, 768), 0, dtype=float)\n",
    "plt.subplot(122)\n",
    "plt.imshow(im2.T)\n",
    "im = [im1, im2]"
   ]
  },
  {
   "cell_type": "markdown",
   "metadata": {},
   "source": [
    "##### Set image"
   ]
  },
  {
   "cell_type": "code",
   "execution_count": null,
   "metadata": {},
   "outputs": [],
   "source": [
    "with dsp:\n",
    "    dsp.init(im)\n",
    "    dsp.run()\n",
    "    time.sleep(sleep_time)\n",
    "    dsp.stop()"
   ]
  },
  {
   "cell_type": "code",
   "execution_count": null,
   "metadata": {},
   "outputs": [],
   "source": []
  }
 ],
 "metadata": {
  "kernel_info": {
   "name": "python3"
  },
  "kernelspec": {
   "display_name": "Python 3",
   "language": "python",
   "name": "python3"
  },
  "language_info": {
   "codemirror_mode": {
    "name": "ipython",
    "version": 3
   },
   "file_extension": ".py",
   "mimetype": "text/x-python",
   "name": "python",
   "nbconvert_exporter": "python",
   "pygments_lexer": "ipython3",
   "version": "3.7.0"
  },
  "nteract": {
   "version": "0.12.3"
  }
 },
 "nbformat": 4,
 "nbformat_minor": 2
}
