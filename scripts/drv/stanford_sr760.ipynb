{
 "cells": [
  {
   "cell_type": "markdown",
   "metadata": {},
   "source": [
    "#### libics: drivers\n",
    "\n",
    "# Stanford Research Systems SR760 FFT Analyzer\n",
    "\n",
    "Product homepage: [SRS FFT Analyzer](https://www.thinksrs.com/products/sr760770.html)"
   ]
  },
  {
   "cell_type": "markdown",
   "metadata": {},
   "source": [
    "### Imports"
   ]
  },
  {
   "cell_type": "code",
   "execution_count": null,
   "metadata": {},
   "outputs": [],
   "source": [
    "import os\n",
    "\n",
    "from libics.drv import drv\n",
    "from libics.drv.itf import itf\n",
    "from libics.data import types, dataset, stp\n",
    "from libics.display import plot, plotdefault\n",
    "from libics.file import hdf"
   ]
  },
  {
   "cell_type": "markdown",
   "metadata": {},
   "source": [
    "### Configuration"
   ]
  },
  {
   "cell_type": "code",
   "execution_count": null,
   "metadata": {},
   "outputs": [],
   "source": [
    "itf_cfg = {\n",
    "    \"protocol\": itf.ITF_PROTOCOL.TEXT,\n",
    "    \"interface\": itf.ITF_TXT.ETHERNET,\n",
    "    \"address\": \"130.183.96.12\",\n",
    "    \"buffer_size\": 4096,\n",
    "    \"send_timeout\": 1.0,\n",
    "    \"send_termchar\": \"\\r\\n\",\n",
    "    \"recv_timeout\": 7.0,\n",
    "    \"recv_termchar\": \"\\n\",\n",
    "    \"txt_ethernet_type\": itf.TXT_ETHERNET_TYPE.GPIB,\n",
    "    \"port\": 1234,\n",
    "    \"blocking\": True,\n",
    "    \"gpib_mode\": itf.TXT_ETHERNET_GPIB.MODE.CONTROLLER,\n",
    "    \"gpib_address\": 5,\n",
    "    \"ctrl_model\": itf.TXT_ETHERNET_GPIB.MODEL.PROLOGIX_GPIB_ETHERNET\n",
    "}\n",
    "itf_cfg = itf.ProtocolCfgBase(**itf_cfg).get_hl_cfg()"
   ]
  },
  {
   "cell_type": "code",
   "execution_count": null,
   "metadata": {},
   "outputs": [],
   "source": [
    "drv_cfg = {\n",
    "    \"driver\": drv.DRV_DRIVER.SPAN,\n",
    "    \"interface\": itf_cfg,\n",
    "    \"identifier\": \"test_stanford_sr760\",\n",
    "    \"model\": drv.DRV_MODEL.STANFORD_SR760,\n",
    "    \"bandwidth\": 250.0,\n",
    "    \"frequency_start\": 0.0,\n",
    "    \"frequency_stop\": 100e3,\n",
    "    \"average_mode\": drv.DRV_SPAN.AVERAGE_MODE.LIN,\n",
    "    \"average_count\": 2000\n",
    "}\n",
    "drv_cfg = drv.DrvCfgBase(**drv_cfg).get_hl_cfg()"
   ]
  },
  {
   "cell_type": "code",
   "execution_count": null,
   "metadata": {},
   "outputs": [],
   "source": [
    "photodiode_model = types.ValQuantity(\n",
    "    name=\"photodiode model\", val=\"Thorlabs PDA100A-EC\"\n",
    ")\n",
    "photodiode_gain = types.ValQuantity(\n",
    "    name=\"photodiode gain\", unit=\"dB\", val=0\n",
    ")\n",
    "photodiode_voltage_dc = types.ValQuantity(\n",
    "    name=\"photodiode voltage dc\", symbol=\"V_dc\", unit=\"V\", val=1.0\n",
    ")\n",
    "light_power = types.ValQuantity(\n",
    "    name=\"light power\", symbol=\"P\", unit=\"mW\", val=10.0\n",
    ")\n",
    "stp_cfg = stp.SetupCfgBase(\n",
    "    photodiode_model=photodiode_model, photodiode_gain=photodiode_gain,\n",
    "    photodiode_voltage_dc=photodiode_voltage_dc, light_power=light_power\n",
    ")"
   ]
  },
  {
   "cell_type": "code",
   "execution_count": null,
   "metadata": {},
   "outputs": [],
   "source": [
    "# File path of saved PSD data set (without file extension)\n",
    "file_path = os.path.join(\n",
    "    os.environ[\"USERPROFILE\"], \"Desktop\",\n",
    "    \"sample_psd\"\n",
    ")"
   ]
  },
  {
   "cell_type": "markdown",
   "metadata": {},
   "source": [
    "### Setup"
   ]
  },
  {
   "cell_type": "code",
   "execution_count": null,
   "metadata": {},
   "outputs": [],
   "source": [
    "span = drv.DrvBase(cfg=drv_cfg).get_drv()\n",
    "psd = None"
   ]
  },
  {
   "cell_type": "markdown",
   "metadata": {},
   "source": [
    "### Script"
   ]
  },
  {
   "cell_type": "markdown",
   "metadata": {},
   "source": [
    "##### Acquire data"
   ]
  },
  {
   "cell_type": "code",
   "execution_count": null,
   "metadata": {},
   "outputs": [],
   "source": [
    "try:\n",
    "    with span:\n",
    "        print(\"Read power spectral density\")\n",
    "        psd = span.read_powerspectraldensity(read_meta=True)\n",
    "except Exception as e:\n",
    "    print(\"ERROR: check Ethernet/GPIB connection\")\n",
    "    print(e)"
   ]
  },
  {
   "cell_type": "markdown",
   "metadata": {},
   "source": [
    "##### Plot data"
   ]
  },
  {
   "cell_type": "code",
   "execution_count": null,
   "metadata": {},
   "outputs": [],
   "source": [
    "fig_cfg = plotdefault.get_figurecfg()\n",
    "plot_cfg = plotdefault.get_plotcfg_arraydata_1d()\n",
    "fig = plot.Figure(fig_cfg, plot_cfg, data=psd)\n",
    "fig.plot()"
   ]
  },
  {
   "cell_type": "markdown",
   "metadata": {},
   "source": [
    "##### Save data"
   ]
  },
  {
   "cell_type": "code",
   "execution_count": null,
   "metadata": {},
   "outputs": [],
   "source": [
    "data_set = dataset.DataSet(data=psd, cfg=drv_cfg, stp=stp_cfg)\n",
    "hdf.write_hdf(data_set, file_path=(file_path + \".hdf5\"))\n",
    "hdf.write_json(data_set, file_path + \".json\")"
   ]
  }
 ],
 "metadata": {
  "kernelspec": {
   "display_name": "Python 3",
   "language": "python",
   "name": "python3"
  },
  "language_info": {
   "codemirror_mode": {
    "name": "ipython",
    "version": 3
   },
   "file_extension": ".py",
   "mimetype": "text/x-python",
   "name": "python",
   "nbconvert_exporter": "python",
   "pygments_lexer": "ipython3",
   "version": "3.6.5"
  }
 },
 "nbformat": 4,
 "nbformat_minor": 2
}
