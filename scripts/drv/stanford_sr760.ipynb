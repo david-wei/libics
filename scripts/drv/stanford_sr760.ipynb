{
 "cells": [
  {
   "cell_type": "markdown",
   "metadata": {},
   "source": [
    "#### libics: drivers\n",
    "\n",
    "# Stanford Research Systems SR760 FFT Analyzer\n",
    "\n",
    "Product homepage: [SRS FFT Analyzer](https://www.thinksrs.com/products/sr760770.html)"
   ]
  },
  {
   "cell_type": "markdown",
   "metadata": {},
   "source": [
    "### Imports"
   ]
  },
  {
   "cell_type": "code",
   "execution_count": null,
   "metadata": {},
   "outputs": [],
   "source": [
    "from libics.drv import drv\n",
    "from libics.drv.itf import itf"
   ]
  },
  {
   "cell_type": "markdown",
   "metadata": {},
   "source": [
    "### Configuration"
   ]
  },
  {
   "cell_type": "code",
   "execution_count": null,
   "metadata": {},
   "outputs": [],
   "source": [
    "itf_cfg = {\n",
    "    \"protocol\": itf.ITF_PROTOCOL.TEXT,\n",
    "    \"interface\": itf.ITF_TXT.ETHERNET,\n",
    "    \"address\": \"130.183.96.12\",\n",
    "    \"buffer_size\": 4096,\n",
    "    \"send_timeout\": 1.0,\n",
    "    \"send_termchar\": \"\\r\\n\",\n",
    "    \"recv_timeout\": 7.0,\n",
    "    \"recv_termchar\": \"\\n\",\n",
    "    \"port\": 1234,\n",
    "    \"blocking\": True\n",
    "}\n",
    "itf_cfg = itf.ProtocolCfgBase(**itf_cfg).get_hl_cfg()"
   ]
  },
  {
   "cell_type": "code",
   "execution_count": null,
   "metadata": {},
   "outputs": [],
   "source": [
    "drv_cfg = {\n",
    "    \"driver\": drv.DRV_DRIVER.SPAN,\n",
    "    \"interface\": itf_cfg,\n",
    "    \"identifier\": \"test_stanford_sr760\",\n",
    "    \"model\": drv.DRV_MODEL.STANFORD_SR760,\n",
    "    \"bandwidth\": 250.0,\n",
    "    \"frequency_start\": 0.0,\n",
    "    \"frequency_stop\": 100e3,\n",
    "    \"average_mode\": drv.DRV_SPAN.AVERAGE_MODE.LIN,\n",
    "    \"average_count\": 2000\n",
    "}\n",
    "drv_cfg = drv.DrvCfgBase(**drv_cfg).get_hl_cfg()"
   ]
  },
  {
   "cell_type": "markdown",
   "metadata": {},
   "source": [
    "### Setup"
   ]
  },
  {
   "cell_type": "code",
   "execution_count": null,
   "metadata": {},
   "outputs": [],
   "source": [
    "span = drv.DrvBase(cfg=drv_cfg).get_drv()"
   ]
  },
  {
   "cell_type": "markdown",
   "metadata": {},
   "source": [
    "### Script"
   ]
  },
  {
   "cell_type": "markdown",
   "metadata": {},
   "source": [
    "##### Demo script"
   ]
  },
  {
   "cell_type": "code",
   "execution_count": null,
   "metadata": {},
   "outputs": [],
   "source": [
    "try:\n",
    "    with span:\n",
    "        print(\"Read power spectral density\")\n",
    "        psd = span.read_powerspectraldensity(read_meta=True)\n",
    "except BlockingIOError as e:\n",
    "    print(\"ERROR: check Ethernet/GPIB connection\")\n",
    "    print(\"BlockingIOError: {:s}\".format(str(e)))"
   ]
  },
  {
   "cell_type": "code",
   "execution_count": null,
   "metadata": {},
   "outputs": [],
   "source": []
  }
 ],
 "metadata": {
  "kernelspec": {
   "display_name": "Python 3",
   "language": "python",
   "name": "python3"
  },
  "language_info": {
   "codemirror_mode": {
    "name": "ipython",
    "version": 3
   },
   "file_extension": ".py",
   "mimetype": "text/x-python",
   "name": "python",
   "nbconvert_exporter": "python",
   "pygments_lexer": "ipython3",
   "version": "3.7.1"
  }
 },
 "nbformat": 4,
 "nbformat_minor": 2
}
