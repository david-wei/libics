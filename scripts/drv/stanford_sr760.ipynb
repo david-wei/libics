{
  "cells": [
    {
      "cell_type": "markdown",
      "source": [
        "#### libics: drivers\n",
        "\n",
        "# Stanford Research Systems SR760 FFT Analyzer\n",
        "\nProduct homepage: [SRS FFT Analyzer](https://www.thinksrs.com/products/sr760770.html)"
      ],
      "metadata": {}
    },
    {
      "cell_type": "markdown",
      "source": [
        "### Imports"
      ],
      "metadata": {}
    },
    {
      "cell_type": "code",
      "source": [
        "import os\n",
        "\n",
        "from libics.drv import drv\n",
        "from libics.drv.itf import itf\n",
        "from libics.data import types, dataset, stp\n",
        "from libics.display import plot, plotdefault\n",
        "from libics.file import hdf"
      ],
      "outputs": [],
      "execution_count": null,
      "metadata": {}
    },
    {
      "cell_type": "markdown",
      "source": [
        "### Configuration"
      ],
      "metadata": {}
    },
    {
      "cell_type": "code",
      "source": [
        "itf_cfg = {\n",
        "    \"protocol\": itf.ITF_PROTOCOL.TEXT,\n",
        "    \"interface\": itf.ITF_TXT.ETHERNET,\n",
        "    \"address\": \"130.183.96.12\",\n",
        "    \"buffer_size\": 4096,\n",
        "    \"send_timeout\": 1.0,\n",
        "    \"send_termchar\": \"\\r\\n\",\n",
        "    \"recv_timeout\": 1.0,\n",
        "    \"recv_termchar\": \"\\n\",\n",
        "    \"txt_ethernet_type\": itf.TXT_ETHERNET_TYPE.GPIB,\n",
        "    \"port\": 1234,\n",
        "    \"blocking\": True,\n",
        "    \"gpib_mode\": itf.TXT_ETHERNET_GPIB.MODE.CONTROLLER,\n",
        "    \"gpib_address\": 5,\n",
        "    \"ctrl_model\": itf.TXT_ETHERNET_GPIB.MODEL.PROLOGIX_GPIB_ETHERNET\n",
        "}\n",
        "itf_cfg = itf.ProtocolCfgBase(**itf_cfg).get_hl_cfg()"
      ],
      "outputs": [],
      "execution_count": null,
      "metadata": {}
    },
    {
      "cell_type": "code",
      "source": [
        "drv_cfg = {\n",
        "    \"driver\": drv.DRV_DRIVER.SPAN,\n",
        "    \"interface\": itf_cfg,\n",
        "    \"identifier\": \"test_stanford_sr760\",\n",
        "    \"model\": drv.DRV_MODEL.STANFORD_SR760,\n",
        "    \"bandwidth\": 250.0,\n",
        "    \"frequency_start\": 0.0,\n",
        "    \"frequency_stop\": 100e3,\n",
        "    \"average_mode\": drv.DRV_SPAN.AVERAGE_MODE.LIN,\n",
        "    \"average_count\": 2000\n",
        "}\n",
        "drv_cfg = drv.DrvCfgBase(**drv_cfg).get_hl_cfg()"
      ],
      "outputs": [],
      "execution_count": null,
      "metadata": {}
    },
    {
      "cell_type": "code",
      "source": [
        "photodiode_model = types.ValQuantity(\n",
        "    name=\"photodiode model\", val=\"Thorlabs PDA100A-EC\"\n",
        ")\n",
        "photodiode_gain = types.ValQuantity(\n",
        "    name=\"photodiode gain\", unit=\"dB\", val=10\n",
        ")\n",
        "photodiode_voltage_dc = types.ValQuantity(\n",
        "    name=\"photodiode voltage dc\", symbol=\"V_dc\", unit=\"V\", val=0.28\n",
        ")\n",
        "light_power = types.ValQuantity(\n",
        "    name=\"light power\", symbol=\"P\", unit=\"N/A\", val=-1\n",
        ")\n",
        "stp_cfg = stp.SetupCfgBase(\n",
        "    photodiode_model=photodiode_model, photodiode_gain=photodiode_gain,\n",
        "    photodiode_voltage_dc=photodiode_voltage_dc, light_power=light_power\n",
        ")"
      ],
      "outputs": [],
      "execution_count": null,
      "metadata": {}
    },
    {
      "cell_type": "code",
      "source": [
        "# File path of saved PSD data set (without file extension)\n",
        "file_path = os.path.join(\n",
        "    os.environ[\"USERPROFILE\"], \"Desktop\", \"test\",\n",
        "    \"20181112_FC780_BPF785-10_AOM-stab_RIN_v_fr_0-0.195kHz\"\n",
        ")"
      ],
      "outputs": [],
      "execution_count": null,
      "metadata": {}
    },
    {
      "cell_type": "markdown",
      "source": [
        "### Setup"
      ],
      "metadata": {}
    },
    {
      "cell_type": "code",
      "source": [
        "span = drv.DrvBase(cfg=drv_cfg).get_drv()\n",
        "psd = None"
      ],
      "outputs": [],
      "execution_count": null,
      "metadata": {}
    },
    {
      "cell_type": "markdown",
      "source": [
        "### Script"
      ],
      "metadata": {}
    },
    {
      "cell_type": "markdown",
      "source": [
        "##### Acquire data"
      ],
      "metadata": {}
    },
    {
      "cell_type": "code",
      "source": [
        "with span:\n",
        "    psd = span.read_powerspectraldensity(read_meta=True)"
      ],
      "outputs": [],
      "execution_count": null,
      "metadata": {}
    },
    {
      "cell_type": "markdown",
      "source": [
        "##### Plot data"
      ],
      "metadata": {}
    },
    {
      "cell_type": "code",
      "source": [
        "fig_cfg = plotdefault.get_figurecfg()\n",
        "plot_cfg = plotdefault.get_plotcfg_arraydata_1d()\n",
        "fig = plot.Figure(fig_cfg, plot_cfg, data=psd)\n",
        "fig.plot()"
      ],
      "outputs": [],
      "execution_count": null,
      "metadata": {}
    },
    {
      "cell_type": "markdown",
      "source": [
        "##### Save data"
      ],
      "metadata": {}
    },
    {
      "cell_type": "code",
      "source": [
        "hdf.write_hdf(psd, file_path=(file_path + \"_psd_.hdf5\"))\n",
        "hdf.write_json(psd, file_path + \"_psd.json\")\n",
        "data_set = dataset.DataSet(data=psd, cfg=drv_cfg, stp=stp_cfg)\n",
        "#hdf.write_hdf(data_set, file_path=(file_path + \".hdf5\"))\n",
        "#hdf.write_json(data_set, file_path + \".json\")"
      ],
      "outputs": [],
      "execution_count": null,
      "metadata": {}
    },
    {
      "cell_type": "code",
      "source": [],
      "outputs": [],
      "execution_count": null,
      "metadata": {
        "collapsed": false,
        "outputHidden": false,
        "inputHidden": false
      }
    }
  ],
  "metadata": {
    "kernelspec": {
      "name": "python3",
      "language": "python",
      "display_name": "Python 3"
    },
    "language_info": {
      "name": "python",
      "version": "3.7.0",
      "mimetype": "text/x-python",
      "codemirror_mode": {
        "name": "ipython",
        "version": 3
      },
      "pygments_lexer": "ipython3",
      "nbconvert_exporter": "python",
      "file_extension": ".py"
    },
    "kernel_info": {
      "name": "python3"
    },
    "nteract": {
      "version": "0.12.3"
    }
  },
  "nbformat": 4,
  "nbformat_minor": 2
}