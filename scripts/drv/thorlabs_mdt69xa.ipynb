{
 "cells": [
  {
   "cell_type": "markdown",
   "metadata": {},
   "source": [
    "#### libics: drivers\n",
    "\n",
    "# Thorlabs MDT69XA Piezo Controller\n",
    "\n",
    "Product homepage: [Thorlabs open-loop piezo controllers](https://www.thorlabs.com/newgrouppage9.cfm?objectgroup_ID=1191)"
   ]
  },
  {
   "cell_type": "markdown",
   "metadata": {},
   "source": [
    "### Imports"
   ]
  },
  {
   "cell_type": "code",
   "execution_count": null,
   "metadata": {},
   "outputs": [],
   "source": [
    "from libics.drv import drv\n",
    "from libics.drv.itf import itf\n",
    "import serial"
   ]
  },
  {
   "cell_type": "markdown",
   "metadata": {},
   "source": [
    "### Configuration"
   ]
  },
  {
   "cell_type": "code",
   "execution_count": null,
   "metadata": {},
   "outputs": [],
   "source": [
    "itf_cfg = {\n",
    "    \"protocol\": itf.ITF_PROTOCOL.TEXT,\n",
    "    \"interface\": itf.ITF_TXT.SERIAL,\n",
    "    \"address\": \"COM2\",\n",
    "    \"buffer_size\": 1024,\n",
    "    \"send_timeout\": 1.0,\n",
    "    \"send_termchar\": \"\\r\\n\",\n",
    "    \"recv_timeout\": 1.0,\n",
    "    \"recv_termchar\": \"\\r\\n\",\n",
    "    \"baudrate\": 115200,\n",
    "    \"bytesize\": 8,\n",
    "    \"parity\": \"none\",\n",
    "    \"stopbits\": 1\n",
    "}\n",
    "itf_cfg = itf.ProtocolCfgBase(**itf_cfg).get_hl_cfg()"
   ]
  },
  {
   "cell_type": "code",
   "execution_count": null,
   "metadata": {},
   "outputs": [],
   "source": [
    "drv_cfg = {\n",
    "    \"driver\": drv.DRV_DRIVER.PIEZO,\n",
    "    \"interface\": itf_cfg,\n",
    "    \"identifier\": \"test_thorlabs_mdt69xa\",\n",
    "    \"model\": drv.DRV_MODEL.THORLABS_MDT69XA,\n",
    "    \"limit_min\": 0.0,\n",
    "    \"limit_max\": 75.0,\n",
    "    \"displacement\": 20e-6,\n",
    "    \"channel\": \"x\",\n",
    "    \"feedback_mode\": drv.DRV_PIEZO.FEEDBACK_MODE.OPEN_LOOP\n",
    "}\n",
    "drv_cfg = drv.DrvCfgBase(**drv_cfg).get_hl_cfg()"
   ]
  },
  {
   "cell_type": "markdown",
   "metadata": {},
   "source": [
    "### Setup"
   ]
  },
  {
   "cell_type": "code",
   "execution_count": null,
   "metadata": {},
   "outputs": [],
   "source": [
    "piezo = drv.DrvBase(cfg=drv_cfg).get_drv()"
   ]
  },
  {
   "cell_type": "markdown",
   "metadata": {},
   "source": [
    "### Script"
   ]
  },
  {
   "cell_type": "markdown",
   "metadata": {},
   "source": [
    "##### Demo script"
   ]
  },
  {
   "cell_type": "code",
   "execution_count": null,
   "metadata": {},
   "outputs": [],
   "source": [
    "try:\n",
    "    with piezo:\n",
    "        print(\"Add command to write minimum limit without validating\")\n",
    "        piezo.cfg.limit_min.write(val=0.0, validate=False)\n",
    "        print(\"Add command to read maximum limit\")\n",
    "        piezo.cfg.limit_max.read()\n",
    "        print(\"Issuing commands\")\n",
    "        piezo.process()\n",
    "        print(\"Voltage limits: [{:.2f} V, {:.2f} V]\".format(piezo.cfg.limit_min.val, piezo.cfg.limit_max.val))\n",
    "        print(\"Writing voltage\")\n",
    "        piezo.write_voltage(10.0)\n",
    "        print(\"Reading voltage: {:.2f} V\".format(piezo.read_voltage()))\n",
    "except serial.SerialException as e:\n",
    "    print(\"ERROR: check serial connection\")\n",
    "    print(\"SerialException: {:s}\".format(str(e)))"
   ]
  },
  {
   "cell_type": "code",
   "execution_count": null,
   "metadata": {},
   "outputs": [],
   "source": []
  }
 ],
 "metadata": {
  "kernelspec": {
   "display_name": "Python 3",
   "language": "python",
   "name": "python3"
  },
  "language_info": {
   "codemirror_mode": {
    "name": "ipython",
    "version": 3
   },
   "file_extension": ".py",
   "mimetype": "text/x-python",
   "name": "python",
   "nbconvert_exporter": "python",
   "pygments_lexer": "ipython3",
   "version": "3.7.1"
  }
 },
 "nbformat": 4,
 "nbformat_minor": 2
}
